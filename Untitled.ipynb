{
 "cells": [
  {
   "cell_type": "code",
   "execution_count": 3,
   "metadata": {},
   "outputs": [
    {
     "name": "stdout",
     "output_type": "stream",
     "text": [
      "['5' '0' '4' ... '4' '5' '6']\n"
     ]
    }
   ],
   "source": [
    "import matplotlib.pyplot as plt\n",
    "import numpy as np\n",
    "from sklearn.datasets import fetch_openml\n",
    "\n",
    "\n",
    "mnist = fetch_openml('mnist_784')\n",
    "print(mnist.target)"
   ]
  },
  {
   "cell_type": "code",
   "execution_count": 8,
   "metadata": {
    "scrolled": true
   },
   "outputs": [
    {
     "name": "stdout",
     "output_type": "stream",
     "text": [
      "MLPClassifier(activation='relu', alpha=0.0001, batch_size='auto', beta_1=0.9,\n",
      "              beta_2=0.999, early_stopping=False, epsilon=1e-08,\n",
      "              hidden_layer_sizes=50, learning_rate='constant',\n",
      "              learning_rate_init=0.001, max_iter=200, momentum=0.9,\n",
      "              n_iter_no_change=10, nesterovs_momentum=True, power_t=0.5,\n",
      "              random_state=None, shuffle=True, solver='adam', tol=0.0001,\n",
      "              validation_fraction=0.1, verbose=False, warm_start=False)\n"
     ]
    }
   ],
   "source": [
    "from sklearn.model_selection import train_test_split \n",
    "\n",
    "xtrain, xtest, ytrain, ytest = train_test_split(mnist.data, mnist.target, train_size=0.7)\n",
    "\n",
    "from sklearn.neural_network import MLPClassifier\n",
    "clf = MLPClassifier(hidden_layer_sizes=(50))\n",
    "print(clf)"
   ]
  },
  {
   "cell_type": "code",
   "execution_count": 12,
   "metadata": {},
   "outputs": [
    {
     "name": "stdout",
     "output_type": "stream",
     "text": [
      "0.953047619047619\n"
     ]
    }
   ],
   "source": [
    "clf.fit(xtrain,ytrain)\n",
    "print(clf.score(xtest, ytest, sample_weight=None))"
   ]
  },
  {
   "cell_type": "code",
   "execution_count": 14,
   "metadata": {},
   "outputs": [
    {
     "name": "stdout",
     "output_type": "stream",
     "text": [
      "6\n",
      "6\n"
     ]
    }
   ],
   "source": [
    "predi = clf.predict(xtest)\n",
    "print(predi[4])\n",
    "print(ytest[4])"
   ]
  },
  {
   "cell_type": "code",
   "execution_count": 15,
   "metadata": {},
   "outputs": [
    {
     "data": {
      "text/plain": [
       "0.953047619047619"
      ]
     },
     "execution_count": 15,
     "metadata": {},
     "output_type": "execute_result"
    }
   ],
   "source": [
    "from sklearn.metrics import precision_score\n",
    "precision_score(ytest,predi,average='micro')"
   ]
  },
  {
   "cell_type": "code",
   "execution_count": 21,
   "metadata": {},
   "outputs": [
    {
     "name": "stdout",
     "output_type": "stream",
     "text": [
      "MLPClassifier(activation='relu', alpha=0.0001, batch_size='auto', beta_1=0.9,\n",
      "              beta_2=0.999, early_stopping=False, epsilon=1e-08,\n",
      "              hidden_layer_sizes=[50, 50], learning_rate='constant',\n",
      "              learning_rate_init=0.001, max_iter=200, momentum=0.9,\n",
      "              n_iter_no_change=10, nesterovs_momentum=True, power_t=0.5,\n",
      "              random_state=None, shuffle=True, solver='adam', tol=0.0001,\n",
      "              validation_fraction=0.1, verbose=False, warm_start=False)\n",
      "0.9596666666666667\n"
     ]
    }
   ],
   "source": [
    "liste = [50 for x in range(2)]\n",
    "clf = MLPClassifier(hidden_layer_sizes=liste)\n",
    "print(clf)\n",
    "clf.fit(xtrain,ytrain)\n",
    "print(clf.score(xtest, ytest, sample_weight=None))"
   ]
  },
  {
   "cell_type": "code",
   "execution_count": 22,
   "metadata": {},
   "outputs": [
    {
     "name": "stdout",
     "output_type": "stream",
     "text": [
      "MLPClassifier(activation='relu', alpha=0.0001, batch_size='auto', beta_1=0.9,\n",
      "              beta_2=0.999, early_stopping=False, epsilon=1e-08,\n",
      "              hidden_layer_sizes=[50, 50, 50, 50, 50, 50, 50, 50, 50, 50],\n",
      "              learning_rate='constant', learning_rate_init=0.001, max_iter=200,\n",
      "              momentum=0.9, n_iter_no_change=10, nesterovs_momentum=True,\n",
      "              power_t=0.5, random_state=None, shuffle=True, solver='adam',\n",
      "              tol=0.0001, validation_fraction=0.1, verbose=False,\n",
      "              warm_start=False)\n",
      "0.9726666666666667\n"
     ]
    }
   ],
   "source": [
    "liste = [50 for x in range(10)]\n",
    "clf = MLPClassifier(hidden_layer_sizes=liste)\n",
    "print(clf)\n",
    "clf.fit(xtrain,ytrain)\n",
    "print(clf.score(xtest, ytest, sample_weight=None))"
   ]
  },
  {
   "cell_type": "code",
   "execution_count": 23,
   "metadata": {},
   "outputs": [
    {
     "name": "stdout",
     "output_type": "stream",
     "text": [
      "MLPClassifier(activation='relu', alpha=0.0001, batch_size='auto', beta_1=0.9,\n",
      "              beta_2=0.999, early_stopping=False, epsilon=1e-08,\n",
      "              hidden_layer_sizes=[50, 50, 50, 50, 50, 50, 50, 50, 50, 50, 50,\n",
      "                                  50, 50, 50, 50, 50, 50, 50, 50, 50],\n",
      "              learning_rate='constant', learning_rate_init=0.001, max_iter=200,\n",
      "              momentum=0.9, n_iter_no_change=10, nesterovs_momentum=True,\n",
      "              power_t=0.5, random_state=None, shuffle=True, solver='adam',\n",
      "              tol=0.0001, validation_fraction=0.1, verbose=False,\n",
      "              warm_start=False)\n",
      "0.9704761904761905\n"
     ]
    }
   ],
   "source": [
    "liste = [50 for x in range(20)]\n",
    "clf = MLPClassifier(hidden_layer_sizes=liste)\n",
    "print(clf)\n",
    "clf.fit(xtrain,ytrain)\n",
    "print(clf.score(xtest, ytest, sample_weight=None))"
   ]
  },
  {
   "cell_type": "code",
   "execution_count": 28,
   "metadata": {},
   "outputs": [
    {
     "name": "stdout",
     "output_type": "stream",
     "text": [
      "MLPClassifier(activation='relu', alpha=0.0001, batch_size='auto', beta_1=0.9,\n",
      "              beta_2=0.999, early_stopping=False, epsilon=1e-08,\n",
      "              hidden_layer_sizes=[50, 50, 50, 50, 50, 50, 50, 50, 50, 50, 50,\n",
      "                                  50, 50, 50, 50, 50, 50, 50, 50, 50, 50, 50,\n",
      "                                  50, 50, 50, 50, 50, 50, 50, 50, ...],\n",
      "              learning_rate='constant', learning_rate_init=0.001, max_iter=200,\n",
      "              momentum=0.9, n_iter_no_change=10, nesterovs_momentum=True,\n",
      "              power_t=0.5, random_state=None, shuffle=True, solver='adam',\n",
      "              tol=0.0001, validation_fraction=0.1, verbose=False,\n",
      "              warm_start=False)\n",
      "0.43423809523809526\n"
     ]
    }
   ],
   "source": [
    "liste = [50 for x in range(40)]\n",
    "clf = MLPClassifier(hidden_layer_sizes=liste)\n",
    "print(clf)\n",
    "clf.fit(xtrain,ytrain)\n",
    "print(clf.score(xtest, ytest, sample_weight=None))"
   ]
  },
  {
   "cell_type": "code",
   "execution_count": 26,
   "metadata": {},
   "outputs": [
    {
     "name": "stdout",
     "output_type": "stream",
     "text": [
      "MLPClassifier(activation='relu', alpha=0.0001, batch_size='auto', beta_1=0.9,\n",
      "              beta_2=0.999, early_stopping=False, epsilon=1e-08,\n",
      "              hidden_layer_sizes=[60, 40, 20, 10], learning_rate='constant',\n",
      "              learning_rate_init=0.001, max_iter=200, momentum=0.9,\n",
      "              n_iter_no_change=10, nesterovs_momentum=True, power_t=0.5,\n",
      "              random_state=None, shuffle=True, solver='adam', tol=0.0001,\n",
      "              validation_fraction=0.1, verbose=False, warm_start=False)\n",
      "0.9613809523809523\n"
     ]
    }
   ],
   "source": [
    "liste = [60,40,20,10]\n",
    "clf = MLPClassifier(hidden_layer_sizes=liste)\n",
    "print(clf)\n",
    "clf.fit(xtrain,ytrain)\n",
    "print(clf.score(xtest, ytest, sample_weight=None))"
   ]
  },
  {
   "cell_type": "code",
   "execution_count": 27,
   "metadata": {},
   "outputs": [
    {
     "name": "stdout",
     "output_type": "stream",
     "text": [
      "MLPClassifier(activation='relu', alpha=0.0001, batch_size='auto', beta_1=0.9,\n",
      "              beta_2=0.999, early_stopping=False, epsilon=1e-08,\n",
      "              hidden_layer_sizes=[10, 20, 40, 60], learning_rate='constant',\n",
      "              learning_rate_init=0.001, max_iter=200, momentum=0.9,\n",
      "              n_iter_no_change=10, nesterovs_momentum=True, power_t=0.5,\n",
      "              random_state=None, shuffle=True, solver='adam', tol=0.0001,\n",
      "              validation_fraction=0.1, verbose=False, warm_start=False)\n",
      "0.9257142857142857\n"
     ]
    }
   ],
   "source": [
    "liste = [10,20,40,60]\n",
    "clf = MLPClassifier(hidden_layer_sizes=liste)\n",
    "print(clf)\n",
    "clf.fit(xtrain,ytrain)\n",
    "print(clf.score(xtest, ytest, sample_weight=None))"
   ]
  },
  {
   "cell_type": "code",
   "execution_count": 30,
   "metadata": {},
   "outputs": [
    {
     "name": "stdout",
     "output_type": "stream",
     "text": [
      "MLPClassifier(activation='relu', alpha=0.0001, batch_size='auto', beta_1=0.9,\n",
      "              beta_2=0.999, early_stopping=False, epsilon=1e-08,\n",
      "              hidden_layer_sizes=[50, 50, 50, 50, 50, 50, 50, 50, 50, 50, 50,\n",
      "                                  50, 50, 50, 50, 50, 50, 50, 50, 50, 50, 50,\n",
      "                                  50, 50, 50, 50, 50, 50, 50, 50, ...],\n",
      "              learning_rate='constant', learning_rate_init=0.001, max_iter=200,\n",
      "              momentum=0.9, n_iter_no_change=10, nesterovs_momentum=True,\n",
      "              power_t=0.5, random_state=None, shuffle=True, solver='adam',\n",
      "              tol=0.0001, validation_fraction=0.1, verbose=False,\n",
      "              warm_start=False)\n",
      "0.7690204081632653\n"
     ]
    }
   ],
   "source": [
    "liste = [50 for x in range(40)]\n",
    "clf = MLPClassifier(hidden_layer_sizes=liste)\n",
    "print(clf)\n",
    "clf.fit(xtrain,ytrain)\n",
    "print(clf.score(xtrain, ytrain, sample_weight=None))"
   ]
  },
  {
   "cell_type": "code",
   "execution_count": 31,
   "metadata": {},
   "outputs": [
    {
     "data": {
      "image/png": "[encoded data removed]",
      "text/plain": [
       "<Figure size 432x288 with 1 Axes>"
      ]
     },
     "metadata": {
      "needs_background": "light"
     },
     "output_type": "display_data"
    }
   ],
   "source": [
    "x = [2,10,20,40]\n",
    "y = [0.9596,0.9727,0.9705,0.4342]\n",
    "plt.plot(x,y)\n",
    "plt.show()"
   ]
  },
  {
   "cell_type": "code",
   "execution_count": 32,
   "metadata": {},
   "outputs": [
    {
     "name": "stdout",
     "output_type": "stream",
     "text": [
      "MLPClassifier(activation='relu', alpha=0.0001, batch_size='auto', beta_1=0.9,\n",
      "              beta_2=0.999, early_stopping=False, epsilon=1e-08,\n",
      "              hidden_layer_sizes=[50, 50, 50, 50, 50, 50, 50, 50, 50, 50, 50,\n",
      "                                  50, 50, 50, 50, 50, 50, 50, 50, 50],\n",
      "              learning_rate='constant', learning_rate_init=0.001, max_iter=200,\n",
      "              momentum=0.9, n_iter_no_change=10, nesterovs_momentum=True,\n",
      "              power_t=0.5, random_state=None, shuffle=True, solver='lbfgs',\n",
      "              tol=0.0001, validation_fraction=0.1, verbose=False,\n",
      "              warm_start=False)\n",
      "0.9133333333333333\n"
     ]
    }
   ],
   "source": [
    "liste = [50 for x in range(20)]\n",
    "clf = MLPClassifier(hidden_layer_sizes=liste,solver='lbfgs')\n",
    "print(clf)\n",
    "clf.fit(xtrain,ytrain)\n",
    "print(clf.score(xtest, ytest, sample_weight=None))"
   ]
  },
  {
   "cell_type": "code",
   "execution_count": 33,
   "metadata": {},
   "outputs": [
    {
     "name": "stdout",
     "output_type": "stream",
     "text": [
      "MLPClassifier(activation='relu', alpha=0.0001, batch_size='auto', beta_1=0.9,\n",
      "              beta_2=0.999, early_stopping=False, epsilon=1e-08,\n",
      "              hidden_layer_sizes=[50, 50, 50, 50, 50, 50, 50, 50, 50, 50],\n",
      "              learning_rate='constant', learning_rate_init=0.001, max_iter=200,\n",
      "              momentum=0.9, n_iter_no_change=10, nesterovs_momentum=True,\n",
      "              power_t=0.5, random_state=None, shuffle=True, solver='lbfgs',\n",
      "              tol=0.0001, validation_fraction=0.1, verbose=False,\n",
      "              warm_start=False)\n",
      "0.9626190476190476\n"
     ]
    }
   ],
   "source": [
    "liste = [50 for x in range(10)]\n",
    "clf = MLPClassifier(hidden_layer_sizes=liste,solver='lbfgs')\n",
    "print(clf)\n",
    "clf.fit(xtrain,ytrain)\n",
    "print(clf.score(xtest, ytest, sample_weight=None))"
   ]
  },
  {
   "cell_type": "code",
   "execution_count": 34,
   "metadata": {},
   "outputs": [
    {
     "name": "stdout",
     "output_type": "stream",
     "text": [
      "MLPClassifier(activation='relu', alpha=0.0001, batch_size='auto', beta_1=0.9,\n",
      "              beta_2=0.999, early_stopping=False, epsilon=1e-08,\n",
      "              hidden_layer_sizes=[50, 50], learning_rate='constant',\n",
      "              learning_rate_init=0.001, max_iter=200, momentum=0.9,\n",
      "              n_iter_no_change=10, nesterovs_momentum=True, power_t=0.5,\n",
      "              random_state=None, shuffle=True, solver='lbfgs', tol=0.0001,\n",
      "              validation_fraction=0.1, verbose=False, warm_start=False)\n",
      "0.9254285714285714\n"
     ]
    }
   ],
   "source": [
    "liste = [50 for x in range(2)]\n",
    "clf = MLPClassifier(hidden_layer_sizes=liste,solver='lbfgs')\n",
    "print(clf)\n",
    "clf.fit(xtrain,ytrain)\n",
    "print(clf.score(xtest, ytest, sample_weight=None))"
   ]
  },
  {
   "cell_type": "code",
   "execution_count": 35,
   "metadata": {},
   "outputs": [
    {
     "name": "stdout",
     "output_type": "stream",
     "text": [
      "MLPClassifier(activation='relu', alpha=0.0001, batch_size='auto', beta_1=0.9,\n",
      "              beta_2=0.999, early_stopping=False, epsilon=1e-08,\n",
      "              hidden_layer_sizes=[50, 50, 50, 50, 50, 50, 50, 50, 50, 50, 50,\n",
      "                                  50, 50, 50, 50, 50, 50, 50, 50, 50],\n",
      "              learning_rate='constant', learning_rate_init=0.001, max_iter=200,\n",
      "              momentum=0.9, n_iter_no_change=10, nesterovs_momentum=True,\n",
      "              power_t=0.5, random_state=None, shuffle=True, solver='sgd',\n",
      "              tol=0.0001, validation_fraction=0.1, verbose=False,\n",
      "              warm_start=False)\n",
      "0.9584761904761905\n"
     ]
    }
   ],
   "source": [
    "liste = [50 for x in range(20)]\n",
    "clf = MLPClassifier(hidden_layer_sizes=liste,solver='sgd')\n",
    "print(clf)\n",
    "clf.fit(xtrain,ytrain)\n",
    "print(clf.score(xtest, ytest, sample_weight=None))"
   ]
  },
  {
   "cell_type": "code",
   "execution_count": 36,
   "metadata": {},
   "outputs": [
    {
     "name": "stdout",
     "output_type": "stream",
     "text": [
      "MLPClassifier(activation='relu', alpha=0.0001, batch_size='auto', beta_1=0.9,\n",
      "              beta_2=0.999, early_stopping=False, epsilon=1e-08,\n",
      "              hidden_layer_sizes=[50, 50, 50, 50, 50, 50, 50, 50, 50, 50],\n",
      "              learning_rate='constant', learning_rate_init=0.001, max_iter=200,\n",
      "              momentum=0.9, n_iter_no_change=10, nesterovs_momentum=True,\n",
      "              power_t=0.5, random_state=None, shuffle=True, solver='sgd',\n",
      "              tol=0.0001, validation_fraction=0.1, verbose=False,\n",
      "              warm_start=False)\n",
      "0.9601904761904761\n"
     ]
    }
   ],
   "source": [
    "liste = [50 for x in range(10)]\n",
    "clf = MLPClassifier(hidden_layer_sizes=liste,solver='sgd')\n",
    "print(clf)\n",
    "clf.fit(xtrain,ytrain)\n",
    "print(clf.score(xtest, ytest, sample_weight=None))"
   ]
  },
  {
   "cell_type": "code",
   "execution_count": 37,
   "metadata": {},
   "outputs": [
    {
     "name": "stdout",
     "output_type": "stream",
     "text": [
      "MLPClassifier(activation='relu', alpha=0.0001, batch_size='auto', beta_1=0.9,\n",
      "              beta_2=0.999, early_stopping=False, epsilon=1e-08,\n",
      "              hidden_layer_sizes=[50, 50], learning_rate='constant',\n",
      "              learning_rate_init=0.001, max_iter=200, momentum=0.9,\n",
      "              n_iter_no_change=10, nesterovs_momentum=True, power_t=0.5,\n",
      "              random_state=None, shuffle=True, solver='sgd', tol=0.0001,\n",
      "              validation_fraction=0.1, verbose=False, warm_start=False)\n",
      "0.9245238095238095\n"
     ]
    },
    {
     "name": "stderr",
     "output_type": "stream",
     "text": [
      "/usr/local/insa/anaconda/lib/python3.7/site-packages/sklearn/neural_network/multilayer_perceptron.py:566: ConvergenceWarning: Stochastic Optimizer: Maximum iterations (200) reached and the optimization hasn't converged yet.\n",
      "  % self.max_iter, ConvergenceWarning)\n"
     ]
    }
   ],
   "source": [
    "liste = [50 for x in range(2)]\n",
    "clf = MLPClassifier(hidden_layer_sizes=liste,solver='sgd')\n",
    "print(clf)\n",
    "clf.fit(xtrain,ytrain)\n",
    "print(clf.score(xtest, ytest, sample_weight=None))"
   ]
  },
  {
   "cell_type": "code",
   "execution_count": 39,
   "metadata": {},
   "outputs": [
    {
     "name": "stdout",
     "output_type": "stream",
     "text": [
      "MLPClassifier(activation='logistic', alpha=0.0001, batch_size='auto',\n",
      "              beta_1=0.9, beta_2=0.999, early_stopping=False, epsilon=1e-08,\n",
      "              hidden_layer_sizes=[50, 50, 50, 50, 50, 50, 50, 50, 50, 50],\n",
      "              learning_rate='constant', learning_rate_init=0.001, max_iter=200,\n",
      "              momentum=0.9, n_iter_no_change=10, nesterovs_momentum=True,\n",
      "              power_t=0.5, random_state=None, shuffle=True, solver='adam',\n",
      "              tol=0.0001, validation_fraction=0.1, verbose=False,\n",
      "              warm_start=False)\n",
      "0.1118095238095238\n"
     ]
    }
   ],
   "source": [
    "liste = [50 for x in range(10)]\n",
    "clf = MLPClassifier(hidden_layer_sizes=liste,solver='adam',activation = 'logistic')\n",
    "print(clf)\n",
    "clf.fit(xtrain,ytrain)\n",
    "print(clf.score(xtest, ytest, sample_weight=None))"
   ]
  },
  {
   "cell_type": "code",
   "execution_count": 40,
   "metadata": {},
   "outputs": [
    {
     "name": "stdout",
     "output_type": "stream",
     "text": [
      "MLPClassifier(activation='identity', alpha=0.0001, batch_size='auto',\n",
      "              beta_1=0.9, beta_2=0.999, early_stopping=False, epsilon=1e-08,\n",
      "              hidden_layer_sizes=[50, 50, 50, 50, 50, 50, 50, 50, 50, 50],\n",
      "              learning_rate='constant', learning_rate_init=0.001, max_iter=200,\n",
      "              momentum=0.9, n_iter_no_change=10, nesterovs_momentum=True,\n",
      "              power_t=0.5, random_state=None, shuffle=True, solver='adam',\n",
      "              tol=0.0001, validation_fraction=0.1, verbose=False,\n",
      "              warm_start=False)\n",
      "0.9152380952380952\n"
     ]
    }
   ],
   "source": [
    "liste = [50 for x in range(10)]\n",
    "clf = MLPClassifier(hidden_layer_sizes=liste,solver='adam',activation = 'identity')\n",
    "print(clf)\n",
    "clf.fit(xtrain,ytrain)\n",
    "print(clf.score(xtest, ytest, sample_weight=None))"
   ]
  },
  {
   "cell_type": "code",
   "execution_count": null,
   "metadata": {},
   "outputs": [
    {
     "name": "stdout",
     "output_type": "stream",
     "text": [
      "MLPClassifier(activation='relu', alpha=0.1, batch_size='auto', beta_1=0.9,\n",
      "              beta_2=0.999, early_stopping=False, epsilon=1e-08,\n",
      "              hidden_layer_sizes=[50, 50, 50, 50, 50, 50, 50, 50, 50, 50],\n",
      "              learning_rate='constant', learning_rate_init=0.001, max_iter=200,\n",
      "              momentum=0.9, n_iter_no_change=10, nesterovs_momentum=True,\n",
      "              power_t=0.5, random_state=None, shuffle=True, solver='adam',\n",
      "              tol=0.0001, validation_fraction=0.1, verbose=False,\n",
      "              warm_start=False)\n"
     ]
    }
   ],
   "source": [
    "liste = [50 for x in range(10)]\n",
    "clf = MLPClassifier(hidden_layer_sizes=liste,solver='adam',activation = 'relu',alpha = 0.1)\n",
    "print(clf)\n",
    "clf.fit(xtrain,ytrain)\n",
    "print(clf.score(xtest, ytest, sample_weight=None))"
   ]
  },
  {
   "cell_type": "code",
   "execution_count": null,
   "metadata": {},
   "outputs": [],
   "source": []
  }
 ],
 "metadata": {
  "kernelspec": {
   "display_name": "Python 3",
   "language": "python",
   "name": "python3"
  },
  "language_info": {
   "codemirror_mode": {
    "name": "ipython",
    "version": 3
   },
   "file_extension": ".py",
   "mimetype": "text/x-python",
   "name": "python",
   "nbconvert_exporter": "python",
   "pygments_lexer": "ipython3",
   "version": "3.7.3"
  },
  "latex_envs": {
   "LaTeX_envs_menu_present": true,
   "autoclose": false,
   "autocomplete": true,
   "bibliofile": "biblio.bib",
   "cite_by": "apalike",
   "current_citInitial": 1,
   "eqLabelWithNumbers": true,
   "eqNumInitial": 1,
   "hotkeys": {
    "equation": "Ctrl-E",
    "itemize": "Ctrl-I"
   },
   "labels_anchors": false,
   "latex_user_defs": false,
   "report_style_numbering": false,
   "user_envs_cfg": false
  }
 },
 "nbformat": 4,
 "nbformat_minor": 2
}
